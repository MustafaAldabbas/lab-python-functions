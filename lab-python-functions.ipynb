{
 "cells": [
  {
   "cell_type": "markdown",
   "id": "25d7736c-ba17-4aff-b6bb-66eba20fbf4e",
   "metadata": {},
   "source": [
    "# Lab | Functions"
   ]
  },
  {
   "cell_type": "markdown",
   "id": "0c581062-8967-4d93-b06e-62833222f930",
   "metadata": {
    "tags": []
   },
   "source": [
    "## Exercise: Managing Customer Orders with Functions\n",
    "\n",
    "In the previous exercise, you improved the code for managing customer orders by using loops and flow control. Now, let's take it a step further and refactor the code by introducing functions.\n",
    "\n",
    "Follow the steps below to complete the exercise:\n",
    "\n",
    "1. Define a function named `initialize_inventory` that takes `products` as a parameter. Inside the function, implement the code for initializing the inventory dictionary using a loop and user input.\n",
    "\n",
    "2. Define a function named `get_customer_orders` that takes no parameters. Inside the function, implement the code for prompting the user to enter the product names using a loop. The function should return the `customer_orders` set.\n",
    "\n",
    "3. Define a function named `update_inventory` that takes `customer_orders` and `inventory` as parameters. Inside the function, implement the code for updating the inventory dictionary based on the customer orders.\n",
    "\n",
    "4. Define a function named `calculate_order_statistics` that takes `customer_orders` and `products` as parameters. Inside the function, implement the code for calculating the order statistics (total products ordered, and percentage of unique products ordered). The function should return these values.\n",
    "\n",
    "5. Define a function named `print_order_statistics` that takes `order_statistics` as a parameter. Inside the function, implement the code for printing the order statistics.\n",
    "\n",
    "6. Define a function named `print_updated_inventory` that takes `inventory` as a parameter. Inside the function, implement the code for printing the updated inventory.\n",
    "\n",
    "7. Call the functions in the appropriate sequence to execute the program and manage customer orders.\n",
    "\n",
    "Hints for functions:\n",
    "\n",
    "- Consider the input parameters required for each function and their return values.\n",
    "- Utilize function parameters and return values to transfer data between functions.\n",
    "- Test your functions individually to ensure they work correctly.\n",
    "\n",
    "\n"
   ]
  },
  {
   "cell_type": "code",
   "execution_count": 15,
   "id": "9dd79ef5",
   "metadata": {},
   "outputs": [
    {
     "data": {
      "text/plain": [
       "{'tshirt': 9, 'mug': 8, 'hat': 7, 'book': 6, 'keychain': 5}"
      ]
     },
     "execution_count": 15,
     "metadata": {},
     "output_type": "execute_result"
    }
   ],
   "source": [
    "#list of available products\n",
    "products = [\"tshirt\", \"mug\", \"hat\", \"book\", \"keychain\"]\n",
    "\n",
    "#define the function\n",
    "def initialize_inventory (products):\n",
    "    #create and empty dictionary called inventory\n",
    "    inventory = {}\n",
    "    #create for loop for user input for products quantity\n",
    "    for product in products: \n",
    "         initial_quantity = int(input(f\"enter the number of {product} available\"))\n",
    "         inventory[product]= initial_quantity\n",
    "    return inventory\n",
    "#call the function\n",
    "initialize_inventory(products)"
   ]
  },
  {
   "cell_type": "code",
   "execution_count": 16,
   "id": "973219ba",
   "metadata": {},
   "outputs": [
    {
     "data": {
      "text/plain": [
       "{'book', 'mug'}"
      ]
     },
     "execution_count": 16,
     "metadata": {},
     "output_type": "execute_result"
    }
   ],
   "source": [
    "#define a function called get_customer_orders\n",
    "def get_customer_orders():\n",
    "    customer_orders = set()\n",
    "    continue_loop = True\n",
    "    #create a loop or user input of the order \n",
    "    while continue_loop:\n",
    "        order = input(\"enter the name of the product\")\n",
    "        customer_orders.add(order)\n",
    "        stop_shoping = input(\"do you want to add another item yes/no\")\n",
    "        if stop_shoping == \"no\":\n",
    "            continue_loop = False\n",
    "    return customer_orders \n",
    "#call the function \n",
    "get_customer_orders()"
   ]
  },
  {
   "cell_type": "code",
   "execution_count": 22,
   "id": "f69309cf",
   "metadata": {},
   "outputs": [
    {
     "data": {
      "text/plain": [
       "{'tshirt': 9, 'mug': 7, 'hat': 6, 'book': 5, 'keychain': 5}"
      ]
     },
     "execution_count": 22,
     "metadata": {},
     "output_type": "execute_result"
    }
   ],
   "source": [
    "#Define a function named `update_inventory` that takes `customer_orders` and `inventory` as parameters.\n",
    "\n",
    "inventory = initialize_inventory(products)\n",
    "customer_orders = get_customer_orders()\n",
    "def update_inventory (customer_orders, inventory):\n",
    "    \n",
    "\n",
    "    #create a loop that substract ordered iteams from inventory\n",
    "    for order in customer_orders:\n",
    "        if order in inventory:\n",
    "            inventory[order]-=1\n",
    "    \n",
    "    return inventory\n",
    "\n",
    "        #call the function\n",
    "update_inventory(customer_orders, inventory)"
   ]
  },
  {
   "cell_type": "code",
   "execution_count": 32,
   "id": "eafac9ef",
   "metadata": {},
   "outputs": [
    {
     "data": {
      "text/plain": [
       "8.571428571428571"
      ]
     },
     "execution_count": 32,
     "metadata": {},
     "output_type": "execute_result"
    }
   ],
   "source": [
    "#Define a function named `calculate_order_statistics` that takes `customer_orders` and `products` as parameters.\n",
    "def calculate_order_statistics(customer_orders, products):    \n",
    "    # (total products ordered, and percentage of unique products ordered)\n",
    "    total_products_ordered = len(customer_orders)\n",
    "    sum_total_products = sum(products.values())\n",
    "    percentage_customer_orders = (total_products_ordered/sum_total_products) * 100\n",
    "    return percentage_customer_orders\n",
    "\n",
    "# Define customer_orders and products\n",
    "customer_orders = get_customer_orders()  \n",
    "products = initialize_inventory(products)  \n",
    "\n",
    "# Call the function and calculate order statistics\n",
    "result = calculate_order_statistics(customer_orders, products)\n",
    "calculate_order_statistics(customer_orders, products)"
   ]
  },
  {
   "cell_type": "code",
   "execution_count": 42,
   "id": "4346f68c",
   "metadata": {},
   "outputs": [
    {
     "name": "stdout",
     "output_type": "stream",
     "text": [
      "8.571428571428571\n"
     ]
    }
   ],
   "source": [
    "#5. Define a function named `print_order_statistics` that takes \n",
    "# `order_statistics` as a parameter.\n",
    "# Inside the function, implement the code for printing the order statistics.\n",
    "\n",
    "def print_order_statistics (order_statistics):\n",
    "    #code for printing order statistics\n",
    "    print(order_statistics)\n",
    "\n",
    "#call the function that pring order statistics\n",
    "order_statistics = calculate_order_statistics(customer_orders, products)\n",
    "\n",
    "print_order_statistics(order_statistics)"
   ]
  },
  {
   "cell_type": "code",
   "execution_count": 43,
   "id": "79f44c67",
   "metadata": {},
   "outputs": [
    {
     "name": "stdout",
     "output_type": "stream",
     "text": [
      "updated inventory {'tshirt': 9, 'mug': 6, 'hat': 5, 'book': 4, 'keychain': 5}\n"
     ]
    }
   ],
   "source": [
    "# Define a function named `print_updated_inventory` that takes\n",
    "#  `inventory` as a parameter. Inside the function, implement the code\n",
    "#  for printing the updated inventory.\n",
    "\n",
    "def print_updated_inventory(inventory):\n",
    "    print(\"updated inventory\", inventory)\n",
    "\n",
    "inventory = update_inventory(customer_orders, inventory)\n",
    "print_updated_inventory(inventory)"
   ]
  },
  {
   "cell_type": "code",
   "execution_count": 44,
   "id": "cf0d955f",
   "metadata": {},
   "outputs": [
    {
     "name": "stdout",
     "output_type": "stream",
     "text": [
      "8.571428571428571\n",
      "updated inventory {'tshirt': 9, 'mug': 5, 'hat': 4, 'book': 3, 'keychain': 5}\n"
     ]
    }
   ],
   "source": [
    "#call all the functions \n",
    "\n",
    "initialize_inventory(products)\n",
    "get_customer_orders()\n",
    "update_inventory(customer_orders, inventory)\n",
    "calculate_order_statistics(customer_orders, products)\n",
    "print_order_statistics(order_statistics)\n",
    "print_updated_inventory(inventory)"
   ]
  },
  {
   "cell_type": "markdown",
   "id": "562eba5e",
   "metadata": {},
   "source": []
  }
 ],
 "metadata": {
  "kernelspec": {
   "display_name": "Python 3 (ipykernel)",
   "language": "python",
   "name": "python3"
  },
  "language_info": {
   "codemirror_mode": {
    "name": "ipython",
    "version": 3
   },
   "file_extension": ".py",
   "mimetype": "text/x-python",
   "name": "python",
   "nbconvert_exporter": "python",
   "pygments_lexer": "ipython3",
   "version": "3.9.6"
  }
 },
 "nbformat": 4,
 "nbformat_minor": 5
}
